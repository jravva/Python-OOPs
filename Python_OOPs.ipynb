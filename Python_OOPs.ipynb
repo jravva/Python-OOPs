{
  "nbformat": 4,
  "nbformat_minor": 0,
  "metadata": {
    "colab": {
      "provenance": []
    },
    "kernelspec": {
      "name": "python3",
      "display_name": "Python 3"
    },
    "language_info": {
      "name": "python"
    }
  },
  "cells": [
    {
      "cell_type": "code",
      "execution_count": null,
      "metadata": {
        "id": "QW1KyXZV5WDF"
      },
      "outputs": [],
      "source": []
    },
    {
      "cell_type": "markdown",
      "source": [
        "Python OOPs Questions:"
      ],
      "metadata": {
        "id": "hxxG88J95eFk"
      }
    },
    {
      "cell_type": "markdown",
      "source": [
        "1. What is Object-Oriented Programming (OOP)?\n",
        "Ans: Object-Oriented Programming (OOP) is a programming paradigm that uses objects and classes to organize and structure code. It is based on the concept of real-world objects, which have both data and behaviors. In OOP, objects are instances of classes, which define the properties and methods that the objects can have. The primary principles of OOP include encapsulation, inheritance, and polymorphism. Encapsulation is the practice of bundling data and methods that operate on that data into a single unit or class, while inheritance allows a class to inherit properties and methods from another class. Polymorphism enables objects to be treated as instances of their parent class, allowing for more flexible and reusable code. OOP is widely used in software development and is supported by many programming languages, including Java, Python, and C++."
      ],
      "metadata": {
        "id": "MV_91prB5k5g"
      }
    },
    {
      "cell_type": "markdown",
      "source": [
        "2. What is a class in OOP?\n",
        "Ans: In Object-Oriented Programming (OOP), a class is a blueprint or template used to create objects. It defines the properties (attributes or data) and behaviors (methods or functions) that the objects created from the class can have.\n",
        "\n",
        "A class specifies the structure and capabilities of its objects by declaring variables to hold data and methods to perform operations on that data. When an object is created from a class, it inherits all the properties and behaviors defined in the class. This process of creating an object from a class is called instantiation.\n",
        "\n",
        "For example, consider a class called \"Car\". This class might define properties such as \"color\", \"make\", and \"model\", and behaviors such as \"drive\" and \"brake\". Each instance (object) of the class \"Car\" would have its own specific values for color, make, and model, but would share the common behaviors defined in the Car class.\n",
        "\n",
        "Classes provide a way to encapsulate and organize related data and functions, promote code reuse, and make code easier to manage and maintain."
      ],
      "metadata": {
        "id": "rcDK_UG06iAh"
      }
    },
    {
      "cell_type": "markdown",
      "source": [
        "3.  What is an object in OOP?\n",
        "Ans: In Object-Oriented Programming (OOP), an object is a specific instance of a class. It is created from the class's blueprint and has its unique set of data and access to the methods defined in the class. An object represents a specific entity that encapsulates state and behavior related to that entity.\n",
        "\n",
        "Each object has its properties (also called attributes or fields) that hold specific data values, and it can perform various actions through methods (also known as functions or procedures) defined in its class.\n",
        "\n",
        "For example, if we have a class named \"Car,\" an object of this class might be a specific car, such as a red Toyota Corolla. This object would have properties like color set to \"red\" and model set to \"Corolla\". It can perform behaviors defined in the class, such as accelerating or braking, through its methods.\n",
        "\n",
        "Objects are fundamental to OOP as they are the building blocks that allow for creating interactive systems that model real-world scenarios. They allow programmers to encapsulate data and functionality together and promote modular and reusable code."
      ],
      "metadata": {
        "id": "-k1XW39864wr"
      }
    },
    {
      "cell_type": "markdown",
      "source": [
        "4. What is the difference between abstraction and encapsulation?\n",
        "Ans: Abstraction and encapsulation are both fundamental concepts in Object-Oriented Programming (OOP), but they serve different purposes and operate at different levels of class design.\n",
        "\n",
        "    Abstraction:\n",
        "        Abstraction is the concept of hiding the complex reality while exposing only the necessary parts of an object. It helps in reducing programming complexity and effort by providing a simplified model of the system.\n",
        "        It focuses on the outside view of an object (interface) and separates the behavior of an object from its implementation. It allows programmers to work with an abstract interface without needing to understand all the complex details of its internal workings.\n",
        "        For example, you can drive a car by knowing how to operate the steering wheel, pedals, and switches without knowing how the engine works internally, which is abstracted away.\n",
        "\n",
        "    Encapsulation:\n",
        "        Encapsulation is the practice of bundling the data (attributes) and methods (functions or procedures) that operate on the data into a single unit or class. It also restricts direct access to some of an object’s components, which can prevent the accidental modification of data.\n",
        "        Encapsulation allows an object to be a black box; it provides interfaces to deal with the data (public methods), but hides the internal implementation details (using private or protected access modifiers).\n",
        "        For example, in a class Car, you might have methods like accelerate() or brake(), which internally modify the speed of the car. The exact way speed is adjusted is encapsulated within these methods, hiding the details from the external user.\n",
        "\n",
        "In summary, abstraction focuses on exposing only relevant interactions of an object, simplifying the ways it can be used, while encapsulation focuses on protecting an object's internal state and grouping its behavior and state into a single logical unit.\n"
      ],
      "metadata": {
        "id": "K2LvlaEB7QeW"
      }
    },
    {
      "cell_type": "markdown",
      "source": [
        "6. What are dunder methods in Python?\n",
        "Ans: In Python, \"dunder methods\" (short for \"double underscore methods\") are special methods that are preceded and followed by double underscores (__). These methods are also commonly known as \"magic methods.\" Dunder methods are used to provide specific functionality to classes and are implicitly invoked in certain situations, often acting as hooks for built-in Python behavior and operators.\n",
        "\n",
        "Here are some common dunder methods in Python:\n",
        "\n",
        "    __init__(self, ...): This method is called when a new instance of a class is created. It serves as the constructor of the class and is typically used to initialize the attributes of the new object.\n",
        "\n",
        "    __str__(self): This method returns the string representation of an object and is called by the built-in str() function and the print() function.\n",
        "\n",
        "    __repr__(self): This method returns the official string representation of an object, which ideally includes enough information to reconstruct the object. It is used by the built-in repr() function and is useful for debugging.\n",
        "\n",
        "    __add__(self, other): This method defines the behavior of the addition operator (+). If this method is defined, obj1 + obj2 will attempt to call obj1.__add__(obj2).\n",
        "\n",
        "    __len__(self): This method should return the length of the object, for classes that represent collections of values.\n",
        "\n",
        "    __getitem__(self, key): This method is called to retrieve an item from an object, for example, using indexing (obj[key]).\n",
        "\n",
        "    __setitem__(self, key, value): This method is invoked when an assignment is made to an item of the object, for example, obj[key] = value.\n",
        "\n",
        "    __delitem__(self, key): This method defines behavior for deleting an item from the object, for example using del obj[key].\n",
        "\n",
        "    __iter__(self): This method should return an iterator for the object, and is called for iteration over the contents of collections.\n",
        "\n",
        "    __eq__(self, other): This method checks for equality between two objects with ==.\n",
        "\n",
        "    __ne__(self, other): This method checks for inequality between two objects with !=.\n",
        "\n",
        "    __lt__(self, other), __le__(self, other), __gt__(self, other), __ge__(self, other): These methods perform comparison operations (<, <=, >, >= respectively).\n",
        "\n",
        "Dunder methods allow developers to integrate their own custom classes more deeply with the Python language, making them behave more like built-in types. Understanding and implementing appropriate dunder methods can greatly enhance the usability and efficiency of custom Python classes."
      ],
      "metadata": {
        "id": "vsqNBNh07oMH"
      }
    },
    {
      "cell_type": "markdown",
      "source": [
        "5.  Explain the concept of inheritance in OOP?\n",
        "Ans: Inheritance is a fundamental concept in Object-Oriented Programming (OOP) that allows one class to inherit properties (attributes) and behaviors (methods) from another class. The class that is inherited from is called the parent class, base class, or superclass, while the class that inherits is called the child class, derived class, or subclass.\n",
        "\n",
        "The main benefits of using inheritance include:\n",
        "\n",
        "    Code Reuse: Inheritance allows a class to reuse the code in its superclass without having to rewrite it. This can significantly reduce redundancy and maintenance efforts.\n",
        "\n",
        "    Hierarchy: Inheritance helps in creating a natural hierarchy for classes. It models the real-world relationships by allowing derived classes to naturally include properties and behaviors of the base class.\n",
        "\n",
        "    Extensibility: It makes the modification and addition of features to existing code simpler and cleaner. As the behavior shared across multiple classes is centralized in a common base class, any changes to it propagate automatically to all derived classes.\n",
        "\n",
        "    Polymorphism Support: Together with inheritance, polymorphism allows for flexibility in using different classes through a common interface defined by the base class. This abstraction lets code work with different data types and objects more flexibly.\n",
        "\n",
        "Types of Inheritance\n",
        "\n",
        "Inheritance can be of several types depending on the language and the specific relations created:\n",
        "\n",
        "    Single inheritance: A class inherits from one single parent class.\n",
        "    Multiple inheritance: A class can inherit from more than one parent class. Not all languages support multiple inheritance due to complexity and potential issues like the Diamond Problem, where the compiler may get confused on which parent class’s method to use.\n",
        "    Multilevel inheritance: This is a scenario where a class is derived from a base class, and then another class is derived from that derived class.\n",
        "    Hierarchical inheritance: One base class has several derived classes.\n",
        "\n",
        "Example of Inheritance in Python\n",
        "\n",
        "Here is a simple example to demonstrate inheritance:\n",
        "\n",
        "class Animal:\n",
        "    def __init__(self, name):\n",
        "        self.name = name\n",
        "    \n",
        "    def speak(self):\n",
        "        raise NotImplementedError(\"Subclasses must implement abstract method\")\n",
        "\n",
        "class Dog(Animal):\n",
        "    def speak(self):\n",
        "        return \"Woof!\"\n",
        "\n",
        "class Cat(Animal):\n",
        "    def speak(self):\n",
        "        return \"Meow!\"\n",
        "\n",
        "dog = Dog(\"Buddy\")\n",
        "cat = Cat(\"Whiskers\")\n",
        "\n",
        "print(dog.speak())  # Output: Woof!\n",
        "print(cat.speak())  # Output: Meow!\n",
        "\n",
        "In this example, Dog and Cat classes inherit from the Animal class. They share the name property and a common interface for speak(), but each implements speak() differently, showcasing how inheritance supports both reusability and customization.\n"
      ],
      "metadata": {
        "id": "tgJ13POP738Q"
      }
    },
    {
      "cell_type": "markdown",
      "source": [
        "7.  What is polymorphism in OOP?\n",
        "Ans: Polymorphism is a concept in Object-Oriented Programming (OOP) that allows objects of different classes to be treated as objects of a common superclass. The word \"polymorphism\" comes from Greek, meaning \"many shapes,\" and it refers to the ability of different objects to respond in unique ways to the same message (i.e., method call or operation).\n",
        "\n",
        "Polymorphism is closely related to inheritance and encapsulation, and it manifests in several ways:\n",
        "\n",
        "    Method Overriding (Subtype Polymorphism): This occurs when a subclass provides a specific implementation of a method that is already defined in its superclass. This allows for the methods of a parent class to be inherited by a child class with the same signature but different behaviors. When you call a method on an object, the method of the object’s runtime class is executed, allowing different behaviors while sharing the same interface.\n",
        "\n",
        "    Method Overloading: This type of polymorphism occurs when two or more methods in the same scope have the same name but different parameters (different type and/or number). Method overloading is not supported in all programming languages. Python, for example, does not support method overloading by default, but you can achieve similar functionality in different ways, such as with default arguments or keyword arguments.\n",
        "\n",
        "    Operator Overloading: This is a specific case of polymorphism where different operators have different implementations depending on their arguments. Python, for instance, allows classes to define their own behavior with respect to language operators. For example, by defining a __add__() method, you can control the behavior of the + operator.\n",
        "\n",
        "Advantages of Polymorphism\n",
        "\n",
        "    Flexibility and Maintainability: Code that can work with objects of different types is more flexible. It is also easier to extend and maintain because new class types can be introduced without altering the code that uses the base class.\n",
        "    Simplified Interface: Polymorphism allows for a common interface for similar classes while allowing them to behave differently, reflecting their specific internal states.\n"
      ],
      "metadata": {
        "id": "nscyvoVT8Ipl"
      }
    },
    {
      "cell_type": "markdown",
      "source": [
        "8.  How is encapsulation achieved in Python?\n",
        "Ans: In Python, encapsulation is achieved by bundling the data (attributes) and code (methods) that act on the data into a single unit or class, and restricting direct access to some of the object's components. This is foundational to the concept of object-oriented programming, where each object controls its internal state and protects it from unauthorized external access.\n",
        "Ways to Implement Encapsulation in Python:\n",
        "\n",
        "    Using Public, Protected, and Private Attributes\n",
        "        Public Attributes: These can be accessed from inside and outside the class. By convention, all member variables of a class are public unless prefixed by an underscore (this is more of a convention than a rule in Python).\n",
        "        Protected Attributes: These are intended to be protected, meaning they should not be accessed from outside the class. They are indicated by a single underscore prefix _. This is only a convention and is mainly used to indicate to other programmers that these attributes should be treated as protected.\n",
        "        Private Attributes: These are inaccessible and invisible from outside the class and are meant to be strictly used internally. Python mangles the names of variables prefixed with double underscore __ (but not suffixed with a double underscore) to prevent specialized subclass access.\n",
        "\n",
        "    Using Getter and Setter Methods\n",
        "        Python doesn’t have the same strict mechanisms as other languages like Java for creating private attributes, but it encourages using methods to access or modify data properties, commonly known as getters and setters.\n",
        "        This approach allows you to control or validate data before it’s assigned to an attribute (setter) or returned (getter).\n"
      ],
      "metadata": {
        "id": "5uhq7VE183b1"
      }
    },
    {
      "cell_type": "markdown",
      "source": [
        "9. What is a constructor in Python?\n",
        "Ans: In Python, a constructor is a special method used to initialize newly created objects. It is automatically called when a new instance of a class is created. The primary purpose of a constructor is to set up the initial state of the object by assigning values to its properties and performing any other necessary setup.\n",
        "\n",
        "The constructor method in Python is called __init__() (short for \"initialize\"). It is a double underscore method, commonly referred to as a \"dunder\" or \"magic\" method because it has special significance in Python and is invoked implicitly.\n",
        "Key Points About Constructors:\n",
        "\n",
        "    The __init__() method in Python is analogous to constructors in other programming languages like C++, Java, etc.\n",
        "    It can take parameters, which are typically used to initialize attributes of the new object.\n",
        "    Unlike some other languages, the Python constructor doesn't explicitly return a value; it returns None implicitly.\n",
        "    If a class has no __init__() method, the constructor of its superclass (if any) is called automatically.\n"
      ],
      "metadata": {
        "id": "WNmygzie9Jw6"
      }
    },
    {
      "cell_type": "markdown",
      "source": [
        "10.  What are class and static methods in Python?\n",
        "Ans: In Python, besides the regular instance methods that operate on instance-level data, there are two other types of methods that can be defined within a class: class methods and static methods. These are annotated with decorators @classmethod and @staticmethod respectively, and serve specific use cases.\n",
        "Class Methods:\n",
        "\n",
        "    Definition: A class method is a method that is bound to the class and not the object of the class. It modifies the class state that applies across all instances of the class.\n",
        "    Decorator: @classmethod\n",
        "    First Parameter: cls, which points to the class and not the instance of the class.\n",
        "    Use Case: Class methods can access and modify class state that applies across all instances, or return an instance of the class.\n",
        "\n",
        "Static Methods:\n",
        "\n",
        "    Definition: A static method does not operate on a specific instance and does not modify class or instance state. It is a way to namespace methods in the class without touching the class-level or instance-level data.\n",
        "    Decorator: @staticmethod\n",
        "    Parameters: Static methods do not implicitly pass either self or cls as the first argument. They behave just like plain functions but belong inside the class body.\n",
        "    Use Case: Static methods are used when some processing related to the class is needed (such as utility functions), but they do not need to access any class-specific or instance-specific data.\n",
        "\n",
        "Example Demonstrating Class and Static Methods:\n",
        "\n",
        "class MyCalendar:\n",
        "    leap_year_base = [2020]  # just as an example base list of leap years\n",
        "    \n",
        "    def __init__(self, year):\n",
        "        self.year = year\n",
        "    \n",
        "    def is_leap_year(self):\n",
        "        return self.year in MyCalendar.leap_year_base\n",
        "\n",
        "    @classmethod\n",
        "    def add_leap_year(cls, year):\n",
        "        cls.leap_year_base.append(year)\n",
        "    \n",
        "    @staticmethod\n",
        "    def is_valid_date(year, month, day):\n",
        "        if month < 1 or month > 12:\n",
        "            return False\n",
        "        if day < 1 or day > 31:\n",
        "            return False\n",
        "        # Simplified date validation logic for example purposes\n",
        "        return True\n",
        "\n",
        "# Test the class methods and static methods\n",
        "calendar = MyCalendar(2020)\n",
        "print(calendar.is_leap_year())  # True, since 2020 is in the initial list\n",
        "\n",
        "calendar.add_leap_year(2024)\n",
        "print(MyCalendar(2024).is_leap_year())  # True, added via class method\n",
        "\n",
        "print(MyCalendar.is_valid_date(2020, 12, 31))  # True, valid date\n",
        "print(MyCalendar.is_valid_date(2020, 13, 31))  # False, month is not valid\n",
        "\n",
        "In this example:\n",
        "\n",
        "    The is_leap_year instance method checks if the year attribute of an instance is a leap year using a class attribute.\n",
        "    The add_leap_year class method modifies the class variable leap_year_base to add new leap years, affecting all instances.\n",
        "    The is_valid_date static method performs a simple logic check without needing access to the specific attributes of any instance or the class.\n",
        "\n",
        "These methods help organize code according to their use and access levels, enhancing both encapsulation and code utility within a class.\n"
      ],
      "metadata": {
        "id": "tRgSQHUU9jL4"
      }
    },
    {
      "cell_type": "markdown",
      "source": [
        "11. What is method overloading in Python?\n",
        "Ans: Method overloading in the traditional sense, as found in some other programming languages like Java or C++, refers to the ability to have multiple methods in the same scope with the same name but different parameters (differing in type or number of arguments). However, Python does not support method overloading in this way. In Python, if you define multiple methods with the same name in the same class, the last method definition will override the previous ones.\n",
        "Python's Approach to Method \"Overloading\":\n",
        "\n",
        "Even though Python does not support method overloading directly, it handles default values for arguments, which gives it the flexibility to call a method with a varying number of arguments. You can also use variable number of arguments (*args for positional and **kwargs for keyword arguments) to achieve similar functionality.\n",
        "\n",
        "Here’s how Python enables similar functionality as method overloading:\n",
        "\n",
        "    Default Arguments: You can provide default values for parameters, which makes them optional during a method call.\n",
        "\n",
        "    Variable-Length Arguments (*args and **kwargs):\n",
        "        *args allows the method to accept any number of positional arguments beyond those explicitly defined.\n",
        "        **kwargs allows for any number of extra keyword arguments beyond those explicitly defined.\n",
        "\n",
        "Example Demonstrating Python's Approach:\n",
        "\n",
        "class Calculator:\n",
        "    # Using default arguments to mimic overloading\n",
        "    def add(self, a, b, c=0):\n",
        "        return a + b + c\n",
        "    \n",
        "    # Using variable-length arguments to handle different amounts of arguments\n",
        "    def multiply(self, *args):\n",
        "        result = 1\n",
        "        for arg in args:\n",
        "            result *= arg\n",
        "        return result\n",
        "\n",
        "# Creating instance of Calculator\n",
        "calc = Calculator()\n",
        "\n",
        "# Using \"add\" method\n",
        "print(calc.add(5, 10))        # Output: 15, equivalent to having a method add(a, b)\n",
        "print(calc.add(5, 10, 5))     # Output: 20, equivalent to having a method add(a, b, c)\n",
        "\n",
        "# Using \"multiply\" method\n",
        "print(calc.multiply(2, 3))    # Output: 6, multiplies 2 and 3\n",
        "print(calc.multiply(2, 3, 4)) # Output: 24, extends to 2, 3, and 4 multiplication\n",
        "\n",
        "In this example:\n",
        "\n",
        "    add uses default values to allow calls with either two or three arguments, mimicking method overloading by providing a method that can be called with different numbers of parameters.\n",
        "    multiply uses *args to handle a variable number of arguments, showing how you can process as many values as are passed without defining each parameter.\n",
        "\n",
        "While this flexibility allows Python to manage scenarios that typically require method overloading in other languages, it is essential to design these methods clearly to maintain code readability and avoid unexpected behaviors. This capability highlights Python's dynamic and flexible language design, accommodating a wide array of programming patterns.\n"
      ],
      "metadata": {
        "id": "ah_C3WAI9_uz"
      }
    },
    {
      "cell_type": "markdown",
      "source": [
        "12.  What is method overriding in OOP?\n",
        "Ans: Method overriding is a concept in Object-Oriented Programming (OOP) where a method in a subclass has the same name, return type, and parameters as a method in its parent class. In overriding, the method defined in the subclass replaces the version in the parent class when invoked on an instance of the subclass. This is a critical functionality for achieving polymorphism, allowing for dynamic method dispatch where the method that gets executed is dependent on the object being operated upon, not the type of the reference variable.\n",
        "Key Features of Method Overriding:\n",
        "\n",
        "    Same Signature: The method in the subclass that overrides the parent class method must have the same signature, i.e., the method name and parameter list must be identical.\n",
        "    Different Implementation: Typically, the purpose of overriding is to provide a specific implementation in the subclass that differs from the one in the parent class, catering to the specific needs of the subclass.\n",
        "\n",
        "Method overriding allows subclasses to provide:\n",
        "\n",
        "    More specific functionality while retaining the interface defined by the superclass.\n",
        "    Behavior that might be more appropriate for the subclass.\n",
        "\n",
        "Example in Python:\n",
        "\n",
        "Here is a simple example that demonstrates method overriding in Python:\n",
        "\n",
        "class Animal:\n",
        "    def speak(self):\n",
        "        print(\"Animal makes a sound\")\n",
        "\n",
        "class Dog(Animal):\n",
        "    def speak(self):\n",
        "        # Overrides the speak method in Animal class\n",
        "        print(\"Dog barks\")\n",
        "\n",
        "class Cat(Animal):\n",
        "    def speak(self):\n",
        "        # Another override\n",
        "        print(\"Cat meows\")\n",
        "    \n",
        "# Objects creation\n",
        "animal = Animal()\n",
        "dog = Dog()\n",
        "cat = Cat()\n",
        "\n",
        "# Method calls\n",
        "animal.speak()  # Outputs: Animal makes a sound\n",
        "dog.speak()     # Outputs: Dog barks (overrides Animal's method)\n",
        "cat.speak()     # Outputs: Cat meows (overrides Animal's method)\n",
        "\n",
        "In the example:\n",
        "\n",
        "    The Animal class has a speak method that provides generic functionality.\n",
        "    The Dog and Cat classes override the speak method to provide specific behavior suitable for Dog and Cat instances, respectively.\n",
        "\n",
        "Importance in OOP:\n",
        "\n",
        "    Polymorphism: Method overriding is central to achieving runtime polymorphism. It allows a parent class reference to invoke the overridden method in the child class, depending on the object type (i.e., the actual object that the reference variable points to), not the variable's type.\n",
        "    Code Maintenance and Reusability: By overriding methods, subclasses can reuse code from their parent classes and only alter what is necessary for the specific subclass. This leads to cleaner and more maintainable code.\n",
        "\n",
        "Method overriding is thus a fundamental tool in the OOP toolkit, facilitating both flexible application logic and streamlined code reuse.\n"
      ],
      "metadata": {
        "id": "-6LLNwQI-SL-"
      }
    },
    {
      "cell_type": "markdown",
      "source": [
        "13. What is a property decorator in Python?\n",
        "Ans: In Python, the property decorator is a built-in decorator that allows you to turn class methods into attributes with getter, setter, and deleter functionalities. This is particularly useful when you need to add behavior to accessing (getting), setting, or deleting a value of a property in a class. Using the property decorator enhances encapsulation, provides a means of computed property access, and can improve the usability and maintenance of your code.\n",
        "Why Use the Property Decorator\n",
        "\n",
        "    Encapsulation: It allows you to hide the internal representation or state of the object, and validate or modify the data getting set.\n",
        "    Ease of Use: It enables attribute access syntax (e.g., obj.attr) instead of method calls (e.g., obj.get_attr()), making it easy to use and maintain, particularly when the attributes need complex interactions.\n",
        "    Control: Provides a controlled interface for access and modification of an attribute.\n",
        "\n",
        "Components of Property Decorator\n",
        "\n",
        "    Getter: Method to get the value of the attribute.\n",
        "    Setter: Method to set the value of the attribute.\n",
        "    Deleter: Method to delete the attribute.\n",
        "\n",
        "How to Use Property Decorator\n",
        "\n",
        "You can use the property decorator directly above the method that you want to designate as the getter. Subsequently, you can use the .setter and .deleter decorators on methods to define setter and deleter functionalities.\n",
        "Example\n",
        "\n",
        "Here’s how you can define a property in a Python class:\n",
        "\n",
        "class Person:\n",
        "    def __init__(self, name):\n",
        "        self._name = name  # Initialize with a single underscore to indicate 'protected' use.\n",
        "    \n",
        "    @property\n",
        "    def name(self):\n",
        "        \"\"\"The getter method.\"\"\"\n",
        "        return self._name\n",
        "\n",
        "    @name.setter\n",
        "    def name(self, value):\n",
        "        \"\"\"The setter method.\"\"\"\n",
        "        if not value:\n",
        "            raise ValueError(\"Name cannot be empty\")\n",
        "        self._name = value\n",
        "    \n",
        "    @name.deleter\n",
        "    def name(self):\n",
        "        \"\"\"The deleter method.\"\"\"\n",
        "        print(\"Deleting name...\")\n",
        "        del self._name\n",
        "\n",
        "# Usage:\n",
        "p = Person(\"John\")\n",
        "print(p.name)  # John -> Accessed by getter\n",
        "\n",
        "p.name = \"Alice\"  # Setting new name -> Accessed by setter\n",
        "print(p.name)  # Alice\n",
        "\n",
        "del p.name  # Deleting name -> Accessed by deleter\n",
        "\n",
        "In this example:\n",
        "\n",
        "    _name is a protected attribute (suggestive by the underscore), ostensibly private but only enforced by convention.\n",
        "    The @property decorator converts the name() method into a \"getter\" for the _name attribute.\n",
        "    The @name.setter decorator designates the subsequent name() method as the \"setter\" for the _name attribute.\n",
        "    The @name.deleter decorator sets up the method to delete the attribute.\n",
        "\n",
        "This use of the property decorator makes name look like a regular attribute while providing the control of getter/setter methods behind the scenes. This is useful for validating, logging, or computing the attribute value dynamically, making the property decorator a powerful feature in Python for managing class attributes.\n",
        "\n"
      ],
      "metadata": {
        "id": "qZnwWb95-yrU"
      }
    },
    {
      "cell_type": "markdown",
      "source": [
        "14.  Why is polymorphism important in OOP?\n",
        "Ans: Polymorphism is a core concept in Object-Oriented Programming (OOP) that is crucial for enhancing and ensuring flexibility, maintainability, and extensibility in software development. Polymorphism, derived from Greek words meaning \"many shapes,\" allows objects of different classes to be treated as objects of a common superclass.\n",
        "Reasons Why Polymorphism is Important:\n",
        "\n",
        "    Code Reusability:\n",
        "        Polymorphism allows the same interface for different underlying forms (data types). By writing code that works with classes that share the same superclass, you can reuse the same code with different subclasses, avoiding redundancy and reducing errors.\n",
        "\n",
        "    Flexibility and Scalability:\n",
        "        It provides a unified interface to a range of different functionalities and lets you implement potentially varied behaviors through a common interface. This makes it easier to extend and modify software without altering the existing system, thus enhancing software scalability and flexibility.\n",
        "\n",
        "    Maintainability:\n",
        "        Changes in the superclass automatically propagate to subclasses (unless overridden). This ensures that the base functionality is consistent while special cases can override these as needed, easing the maintenance burden.\n",
        "\n",
        "    Decoupling:\n",
        "        Polymorphism helps in reducing dependencies (decoupling) between components of software systems. This simplification happens because components understand interfaces, not the specific details of each other’s implementations. This abstraction allows changes to be made to the implementation of a class without affecting those components that interact with it.\n",
        "\n",
        "    Simplifies Testing:\n",
        "        With polymorphism, you can use mock objects in place of actual objects for testing purposes, as they can share the same interface. This makes unit testing easier and more robust.\n",
        "\n",
        "    Effective Use of Dynamic Binding:\n",
        "        Polymorphism promotes dynamic (or late) binding, which is the method call that is resolved at runtime rather than at compile time. This ensures that the correct method is called for an object, regardless of the expression type it is referenced by.\n",
        "\n",
        "    Enhanced Collaboration and Modularity:\n",
        "        By implementing polymorphic behavior, different programmers can work on different classes independently but still ensure that they interact correctly. Each class can implement the same methods differently based on their specific requirements, contributing to a modular architecture.\n",
        "\n",
        "Example in Practice:\n",
        "\n",
        "Imagine a PaymentProcessor superclass with a method process_payment(amount). Different payment methods like CreditCard, PayPal, and Bitcoin can inherit from PaymentProcessor and implement process_payment in ways specific to their payment procedure. This polymorphic method allows the client code to remain unchanged even as new payment methods are added or modified, supporting easy expansions or modifications.\n",
        "\n",
        "class PaymentProcessor:\n",
        "    def process_payment(self, amount):\n",
        "        raise NotImplementedError\n",
        "\n",
        "class CreditCard(PaymentProcessor):\n",
        "    def process_payment(self, amount):\n",
        "        print(f\"Processing credit card payment for {amount}\")\n",
        "\n",
        "class PayPal(PaymentProcessor):\n",
        "    def process_payment(self, amount):\n",
        "        print(f\"Processing PayPal payment for {amount}\")\n",
        "\n",
        "def pay_bill(payment_processor, amount):\n",
        "    payment_processor.process_payment(amount)\n",
        "\n",
        "# Client code\n",
        "pay_bill(PayPal(), 100)\n",
        "pay_bill(CreditCard(), 50)\n",
        "\n",
        "In this example, pay_bill function can work with any subclass of PaymentProcessor without caring about the details of the payment process, demonstrating the benefits of polymorphism in creating flexible and maintainable code."
      ],
      "metadata": {
        "id": "K5YvbvxK_Ent"
      }
    },
    {
      "cell_type": "markdown",
      "source": [
        "15.  What is an abstract class in Python?\n",
        "Ans: An abstract class in Python is a class that cannot be instantiated on its own and is intended to serve as a base class for other classes. Abstract classes are used to define a common interface and/or implement shared functionality that subclasses can inherit, while ensuring that certain methods must be implemented by subclasses. This concept is central to the idea of ensuring that derived classes adhere to a particular contract or interface.\n",
        "\n",
        "Abstract classes in Python are facilitated by the abc module, which stands for Abstract Base Classes. This module provides the infrastructure for defining abstract base classes (ABCs) and includes:\n",
        "\n",
        "    The ABC class to define abstract base classes.\n",
        "    The abstractmethod decorator to indicate methods that must be implemented by subclasses.\n",
        "\n",
        "Key Points:\n",
        "\n",
        "    Abstract Methods: These are methods declared in the abstract class with the @abstractmethod decorator but are intended to have no implementation in the abstract class itself. Instead, they must be overridden and implemented by subclasses.\n",
        "    Instantiation: Abstract classes cannot be instantiated directly. An attempt to instantiate an abstract class results in a TypeError.\n",
        "    Inheritance and Implementation: To use an abstract class, a subclass must derive from it and implement all its abstract methods.\n",
        "\n",
        "Example Using abc Module\n",
        "\n",
        "Here is an example that demonstrates how to define and use an abstract class in Python:\n",
        "\n",
        "from abc import ABC, abstractmethod\n",
        "\n",
        "class Shape(ABC):\n",
        "    @abstractmethod\n",
        "    def area(self):\n",
        "        pass\n",
        "    \n",
        "    @abstractmethod\n",
        "    def perimeter(self):\n",
        "        pass\n",
        "\n",
        "class Rectangle(Shape):\n",
        "    def __init__(self, width, height):\n",
        "        self.width = width\n",
        "        self.height = height\n",
        "    \n",
        "    def area(self):\n",
        "        return self.width * self.height\n",
        "    \n",
        "    def perimeter(self):\n",
        "        return 2 * (self.width + self.height)\n",
        "\n",
        "# Attempting to create an instance of an abstract class will raise an error\n",
        "# shape = Shape()  # TypeError: Can't instantiate abstract class Shape with abstract methods area, perimeter\n",
        "\n",
        "# Creating an instance of a subclass that implements all abstract methods\n",
        "rect = Rectangle(3, 4)\n",
        "print(f\"Area: {rect.area()}\")        # Output: Area: 12\n",
        "print(f\"Perimeter: {rect.perimeter()}\")  # Output: Perimeter: 14\n",
        "\n",
        "In this example:\n",
        "\n",
        "    Shape is an abstract class with two abstract methods: area and perimeter.\n",
        "    Rectangle is a subclass of Shape and provides specific implementations for the area and perimeter methods.\n",
        "    The abstract class Shape cannot be instantiated directly, which enforces that only subclasses with full implementations of all abstract methods can be instantiated.\n",
        "\n",
        "Benefits of Using Abstract Classes\n",
        "\n",
        "    Design By Contract: Abstract classes allow for defining a clear set of methods that all subclasses must implement, ensuring a consistent interface.\n",
        "    Code Reusability: They enable the reuse of common base functionality in subclasses, reducing redundancy.\n",
        "    Encapsulation and Abstraction: These concepts can be effectively enforced, maintaining a clean separation between interface and implementation.\n",
        "\n",
        "Overall, abstract classes are powerful tools for structuring large codebases, making them more organized and manageable by defining predictable and consistent behavior across a set of related classes.\n"
      ],
      "metadata": {
        "id": "miBLXW23_VSB"
      }
    },
    {
      "cell_type": "markdown",
      "source": [
        "16. What are the advantages of OOP?\n",
        "Ans: Object-Oriented Programming (OOP) is a programming paradigm that uses objects and classes to structure software programs. It offers several key advantages that can lead to more efficient, manageable, and scalable code. Here are some of the prominent advantages of using OOP:\n",
        "\n",
        "    Modularity for Easier Troubleshooting: OOP allows developers to create modules of code that can be tested independently, which simplifies both the development and troubleshooting processes. When something goes wrong, you can zero in on the specific part of the system knowing that the issue is localized to a particular area.\n",
        "\n",
        "    Reuse of Code through Inheritance: OOP provides the ability to create new classes that share the attributes and methods of existing classes via inheritance. This facilitates code reuse without duplication. Subclasses extend the base functionalities of superclasses, promoting more efficient code usage and reducing errors.\n",
        "\n",
        "    Flexibility through Polymorphism: Polymorphism allows methods to do different things based on the object it is acting upon. This flexibility lets programmers use the same interface for entities of different types, reducing the complexity in the code and increasing its extensibility.\n",
        "\n",
        "    Effective Problem Solving: OOP provides a clear modular structure for programs which makes it good at defining abstract data types where implementation details are hidden, and only the operations are made visible. This approach helps in solving real-world problems by focusing on high-level data modeling.\n",
        "\n",
        "    Encapsulation of Data and Methods: Encapsulation enables a class to change its internal implementation without hurting the external parts of the code, which protects the integrity of the data and prevents the implementation details from being exposed. This data hiding helps in building secure programs that aren't prone to unintended interference.\n",
        "\n",
        "    Improved Software Maintainability: For software changes, OOP makes the process easier and less costly. When a change is required, you can make changes inside a class without affecting other areas of the program. This containment reduces potential problems and improves maintainability of the systems.\n",
        "\n",
        "    Implementation of Real-World Modeling: Classes and objects, the fundamental building blocks of OOP, can be treated as representations of real-world entities. The inheritance and polymorphism features of OOP allow the mapping of real-world models into the programming world in a more natural manner.\n",
        "\n",
        "    Facilitates Increased Productivity: The modularity of OOP boosts productivity, especially in large software projects. The ability to reuse and selectively modify existing code helps developers save time and effort, which in turn speeds up the software development process.\n",
        "\n",
        "    Community and Resources: Due to the popularity and longevity of the OOP paradigm, a substantial community and wealth of resources have developed over time. This body of knowledge provides extensive support for solving various programming challenges.\n",
        "\n",
        "In summary, OOP enhances software development and offers significant benefits that include maintainability, scalability, and relative ease in modifying existing code, all of which are crucial for developing complex software systems. These features make OOP a preferred choice in large-scale software engineering.\n"
      ],
      "metadata": {
        "id": "GeuJLm8x_sK6"
      }
    },
    {
      "cell_type": "markdown",
      "source": [
        "17. F What is the difference between a class variable and an instance variable?\n",
        "Ans: In Object-Oriented Programming (OOP), particularly in languages like Python, Java, and others, understanding the distinction between class variables and instance variables is essential for designing efficient and functioning OOP systems. These variables differ mainly in their level of association—whether they belong to the class itself or to instances of the class.\n",
        "Class Variables\n",
        "\n",
        "    Association: Class variables are associated with the class itself, not with any specific instance. They are shared across all instances of the class. This means that if the variable is changed in one instance, the change will be reflected in all other instances as well.\n",
        "    Definition: They are typically defined directly in the class, outside of any class methods.\n",
        "    Usage: Class variables are used for data that should be shared across all instances, such as constants or configuration values that apply to all objects of that class, or counters to track information relevant to the class as a whole.\n",
        "\n",
        "Instance Variables\n",
        "\n",
        "    Association: Instance variables are associated with a specific instance of the class. Each instance of the class has its own copy of that variable. Changes made to the variable in one instance do not affect the variable in other instances.\n",
        "    Definition: They are usually defined within methods of the class, most commonly within the __init__() method, which is the constructor method of the class.\n",
        "    Usage: Instance variables are useful for data that is unique to each object and varies from one instance to another, such as the name of a user or an item's price.\n",
        "\n",
        "Example in Python\n",
        "\n",
        "Here’s a simple example to illustrate class variables and instance variables:\n",
        "\n",
        "class Dog:\n",
        "    species = \"Canis familiaris\"  # Class variable shared by all instances\n",
        "    \n",
        "    def __init__(self, name, age):\n",
        "        self.name = name  # Instance variable unique to each instance\n",
        "        self.age = age    # Instance variable unique to each instance\n",
        "\n",
        "# Instances of Dog\n",
        "dog1 = Dog(\"Buddy\", 5)\n",
        "dog2 = Dog(\"Lucy\", 3)\n",
        "\n",
        "# Accessing class variable\n",
        "print(dog1.species)  # Outputs: Canis familiaris\n",
        "print(dog2.species)  # Outputs: Canis familiaris\n",
        "\n",
        "# Modifying class variable through one instance\n",
        "Dog.species = \"Canis lupus familiaris\"\n",
        "print(dog1.species)  # Outputs: Canis lupus familiaris\n",
        "print(dog2.species)  # Outputs: Canis lupus familiaris\n",
        "\n",
        "# Accessing instance variables\n",
        "print(dog1.name)  # Outputs: Buddy\n",
        "print(dog2.name)  # Outputs: Lucy\n",
        "\n",
        "# Changing instance variable of dog1\n",
        "dog1.name = \"Rocky\"\n",
        "print(dog1.name)  # Outputs: Rocky\n",
        "print(dog2.name)  # Outputs: Lucy (unchanged)\n",
        "\n",
        "In this example:\n",
        "\n",
        "    species is a class variable of Dog, shared by all instances. Changing it via any instance or the class itself affects all instances.\n",
        "    name and age are instance variables, specific to each Dog instance. Changing the name of dog1 does not affect name of dog2.\n",
        "\n",
        "Understanding the difference between class and instance variables is vital for proper data management and behavior in object-oriented programming, avoiding unintended data sharing and promoting encapsulation."
      ],
      "metadata": {
        "id": "aLrcQpf2_7oM"
      }
    },
    {
      "cell_type": "markdown",
      "source": [
        "18. What is multiple inheritance in Python?\n",
        "Ans: Multiple inheritance is a feature in some object-oriented programming languages, including Python, where a class can inherit attributes and methods from more than one parent class. This allows a derived class to inherit functionality from multiple base classes, providing a way to mix and combine behaviors from different classes.\n",
        "Key Characteristics of Multiple Inheritance in Python:\n",
        "\n",
        "    Inherit from Multiple Classes: A class can inherit from more than one parent class, enabling it to use the attributes and methods from all the parent classes.\n",
        "    Method Resolution Order (MRO): Python uses a specific method resolution order to decide which method to invoke when a method is called on an object and multiple base classes contain implementations of the method. Python follows the C3 linearization (also known as C3 superclass linearization) to determine the order in which methods should be inherited in the presence of multiple inheritance, which ensures consistency and predictability in method resolution.\n",
        "    Super Function: The super() function is used to call methods from a parent class. In the context of multiple inheritance, super() follows the method resolution order to make appropriate method calls.\n",
        "\n",
        "Example Demonstrating Multiple Inheritance in Python:\n",
        "\n",
        "Here is a simple example that illustrates how multiple inheritance can be used in Python:\n",
        "\n",
        "class Telecaster:\n",
        "    def play(self):\n",
        "        print(\"Playing the Telecaster guitar\")\n",
        "\n",
        "class Stratocaster:\n",
        "    def play(self):\n",
        "        print(\"Playing the Stratocaster guitar\")\n",
        "\n",
        "class DoubleNeckGuitar(Telecaster, Stratocaster):\n",
        "    pass\n",
        "\n",
        "# Create an instance of DoubleNeckGuitar\n",
        "guitar = DoubleNeckGuitar()\n",
        "guitar.play()  # This will execute the method from the first parent class in the list, Telecaster\n",
        "\n",
        "In this example:\n",
        "\n",
        "    The class DoubleNeckGuitar inherits from both Telecaster and Stratocaster.\n",
        "    When play() is called on an instance of DoubleNeckGuitar, the Python MRO determines that the Telecaster class’s method should be invoked first because Telecaster is listed first in the inheritance tuple of the DoubleNeckGuitar class.\n",
        "\n",
        "Use of super() in Multiple Inheritance:\n",
        "\n",
        "Here's how you can use super() to ensure that methods from all parent classes get called.\n",
        "\n",
        "class Engine:\n",
        "    def start(self):\n",
        "        print(\"Engine starting\")\n",
        "\n",
        "class TurboEngine:\n",
        "    def start(self):\n",
        "        print(\"Turbo engine starting\")\n",
        "\n",
        "class Car(Engine, TurboEngine):\n",
        "    def start(self):\n",
        "        super().start()\n",
        "\n",
        "my_car = Car()\n",
        "my_car.start()  # This will execute Engine's start method due to MRO\n",
        "\n",
        "Considerations and Potential Issues:\n",
        "\n",
        "    Complexity: Multiple inheritance can make the code more complex and harder to understand, especially if method names overlap across the parent classes.\n",
        "    The Diamond Problem: This is a classic problem in multiple inheritance scenarios where a class inherits from two classes that both inherit from a common superclass. Although Python's MRO algorithm addresses this issue, it's something developers need to be aware of when designing class hierarchies.\n",
        "\n",
        "Python's multiple inheritance offers powerful capabilities but should be used judiciously to maintain code readability and avoid ambiguity. Understanding Python's MRO and judicious use of super() are essential when working with multiple inheritance to orchestrate method calls across parent classes effectively.\n"
      ],
      "metadata": {
        "id": "2g_3n0cuAOIo"
      }
    },
    {
      "cell_type": "markdown",
      "source": [
        "18.  Explain the purpose of ‘’__str__’ and ‘__repr__’ ‘ methods in Python?\n",
        "Ans: In Python, the __str__ and __repr__ are special methods used to define how an object should be represented as a string. They serve different purposes and are useful in different contexts, aiding in debugging and logging as well as improving the usability of classes when their instances are converted to strings.\n",
        "__str__ Method\n",
        "\n",
        "    Purpose: The __str__ method is used to create a human-readable string representation of an object. It's meant to be clear and concise, primarily for end-user consumption. When you use the built-in str() function or print an object, Python internally calls the __str__ method.\n",
        "    Typical Use Case: Used when you need a friendly output that describes an object, suited for displaying information about the object in logs or in the application's UI.\n",
        "\n",
        "__repr__ Method\n",
        "\n",
        "    Purpose: The __repr__ method is used to create an \"official\" string representation of an object. This is more for developers than end-users, and it should be as precise as possible, ideally containing information that could be used to recreate the object. When you evaluate an object in the Python interpreter, the __repr__ method is called to display the object.\n",
        "    Typical Use Case: The output of __repr__ should, ideally, be valid Python code that can be used to reconstruct the object again, or at least provide a detailed representation for debugging purposes.\n",
        "\n",
        "Key Differences\n",
        "\n",
        "    Target Audience: __str__ is aimed at end-users while __repr__ is primarily for developers and debugging.\n",
        "    Fallback: If __str__ is not implemented, Python falls back to using __repr__ for string conversion requests made by str() and print(). However, if only __str__ is implemented, it does not affect __repr__.\n",
        "\n",
        "Example Code Demonstrating Both Methods\n",
        "\n",
        "class Product:\n",
        "    def __init__(self, name, price):\n",
        "        self.name = name\n",
        "        self.price = price\n",
        "    \n",
        "    def __str__(self):\n",
        "        return f\"{self.name} costs ${self.price}\"\n",
        "    \n",
        "    def __repr__(self):\n",
        "        return f\"Product('{self.name}', {self.price})\"\n",
        "\n",
        "# Create a Product instance\n",
        "p = Product(\"Chair\", 150)\n",
        "\n",
        "# __str__ is called when using print() or str()\n",
        "print(p)  # Output: Chair costs $150\n",
        "\n",
        "# __repr__ is used when you evaluate the object or use repr()\n",
        "print(repr(p))  # Output: Product('Chair', 150)\n",
        "\n",
        "In this example:\n",
        "\n",
        "    __str__ creates a friendly string suitable for end-users.\n",
        "    __repr__ creates a more formal string that could be used to recreate the object (ideally).\n",
        "\n",
        "In summary, __str__ and __repr__ are important for defining meaningful string representations for class instances. They improve the clarity and debuggability of object representations in Python. It is a good practice to at least implement __repr__ for any class you create to facilitate easier debugging."
      ],
      "metadata": {
        "id": "w444K0tMAhkb"
      }
    },
    {
      "cell_type": "markdown",
      "source": [
        "19. What is the significance of the ‘super()’ function in Python?\n",
        "Ans: In Python, the `super()` function is used to call methods from a parent class (or superclass) in a child class (or subclass). It allows you to access methods and attributes of a parent class without explicitly naming it, which helps in maintaining code that is more modular and easier to extend.\n",
        "\n",
        "The significance of `super()` can be broken down into a few key points:\n",
        "\n",
        "1. **Calling Parent Class Methods**: The most common use of `super()` is to call a method from the parent class that has been overridden in the child class. This allows you to extend or modify the behavior of the inherited method rather than completely replacing it.\n",
        "\n",
        "   Example:\n",
        "   ```python\n",
        "   class Animal:\n",
        "       def sound(self):\n",
        "           print(\"Some generic sound\")\n",
        "   \n",
        "   class Dog(Animal):\n",
        "       def sound(self):\n",
        "           super().sound()  # Calling the parent class's sound method\n",
        "           print(\"Bark\")\n",
        "\n",
        "   dog = Dog()\n",
        "   dog.sound()\n",
        "   ```\n",
        "   Output:\n",
        "   ```\n",
        "   Some generic sound\n",
        "   Bark\n",
        "   ```\n",
        "\n",
        "2. **Constructor Inheritance**: `super()` is often used in the `__init__` method to call the parent class’s constructor. This ensures that the initialization code from the parent class is executed, along with any additional initialization in the subclass.\n",
        "\n",
        "   Example:\n",
        "   ```python\n",
        "   class Animal:\n",
        "       def __init__(self, name):\n",
        "           self.name = name\n",
        "   \n",
        "   class Dog(Animal):\n",
        "       def __init__(self, name, breed):\n",
        "           super().__init__(name)  # Calling the parent class's constructor\n",
        "           self.breed = breed\n",
        "\n",
        "   dog = Dog(\"Max\", \"Golden Retriever\")\n",
        "   print(dog.name, dog.breed)\n",
        "   ```\n",
        "   Output:\n",
        "   ```\n",
        "   Max Golden Retriever\n",
        "   ```\n",
        "\n",
        "3. **Avoiding Explicit Class Names**: `super()` makes the code more flexible and easier to maintain, especially in cases of multiple inheritance. By using `super()`, you don’t need to directly reference the parent class, which can be helpful if the inheritance hierarchy changes. This is particularly useful in larger projects.\n",
        "\n",
        "4. **Multiple Inheritance**: In the case of multiple inheritance, `super()` helps resolve the method resolution order (MRO) and ensures that methods from all parent classes are called appropriately. This is part of Python’s method resolution order system, which determines the order in which base classes are considered when searching for a method.\n",
        "\n",
        "   Example of multiple inheritance:\n",
        "   ```python\n",
        "   class A:\n",
        "       def method(self):\n",
        "           print(\"Method in class A\")\n",
        "\n",
        "   class B(A):\n",
        "       def method(self):\n",
        "           super().method()  # Calling method from class A\n",
        "           print(\"Method in class B\")\n",
        "\n",
        "   class C(A):\n",
        "       def method(self):\n",
        "           super().method()  # Calling method from class A\n",
        "           print(\"Method in class C\")\n",
        "\n",
        "   class D(B, C):\n",
        "       def method(self):\n",
        "           super().method()  # Method resolution order ensures method from B and C are called\n",
        "           print(\"Method in class D\")\n",
        "\n",
        "   d = D()\n",
        "   d.method()\n",
        "   ```\n",
        "   Output:\n",
        "   ```\n",
        "   Method in class A\n",
        "   Method in class C\n",
        "   Method in class B\n",
        "   Method in class D\n",
        "   ```\n",
        "\n",
        "### Summary:\n",
        "`super()` is significant because it allows child classes to invoke and extend the functionality of their parent classes while avoiding the need to hardcode parent class names. It provides a cleaner, more maintainable way of using inheritance, especially in complex or multi-level inheritance structures."
      ],
      "metadata": {
        "id": "KO8jv4xXAyuU"
      }
    },
    {
      "cell_type": "markdown",
      "source": [
        "21.  What is the significance of the __del__ method in Python?\n",
        "Ans: The __del__ method in Python, also known as the destructor method, is a special method that is called when an object is about to be destroyed. This can happen when all references to the object have been deleted or when the Python interpreter is shutting down. The __del__ method is used to perform any necessary clean-up tasks, such as closing files or releasing resources, before the object is destroyed.\n",
        "\n",
        "It's important to note that unlike other programming languages with explicit memory management, Python uses automatic garbage collection, so the exact timing of when __del__ is called may not be deterministic. Due to this, relying on __del__ for critical cleanup tasks is generally discouraged, and context managers or try-finally blocks are recommended instead."
      ],
      "metadata": {
        "id": "ztFtNtGYBXZ7"
      }
    },
    {
      "cell_type": "markdown",
      "source": [
        "22. What is the difference between @staticmethod and @classmethod in Python?\n",
        "Ans: n Python, @staticmethod and @classmethod are both decorators that can be used to define methods within a class that are not tied to a specific instance of that class.\n",
        "\n",
        "    @staticmethod:\n",
        "        A static method does not receive an implicit first argument, whether it be a class instance (self) or a class object (cls).\n",
        "        It is a way to define a method in a class namespace, but the method cannot access or modify the class state or instance state.\n",
        "        It is used mostly for utility functions inside classes where the method does not need to know about class or instance context.\n",
        "        Example:\n",
        "\n",
        "        class MyClass:\n",
        "            @staticmethod\n",
        "            def my_static_method(arg1, arg2):\n",
        "                return arg1 + arg2\n",
        "\n",
        "@classmethod:\n",
        "\n",
        "    A class method receives the class itself as the first argument instead of an instance of that class (self). It is denoted as cls by convention.\n",
        "    It can modify the class state that would be applicable across all instances of the class, but it can't access or modify individual instance data.\n",
        "    Useful when you need to have a method that should work both with the class (e.g., factory methods) and its instances.\n",
        "    Example:\n",
        "\n",
        "    class MyClass:\n",
        "        num_instances = 0\n",
        "        \n",
        "        @classmethod\n",
        "        def count_instances(cls):\n",
        "            return cls.num_instances\n",
        "        \n",
        "        @classmethod\n",
        "        def create_instance(cls):\n",
        "            cls.num_instances += 1\n",
        "            return cls()\n",
        "\n",
        "In summary, use @staticmethod when you need a function that does not interact with any other part of the class, and use @classmethod when you need to deal with the class itself within the method.\n"
      ],
      "metadata": {
        "id": "hfXH7LsuBuSN"
      }
    },
    {
      "cell_type": "markdown",
      "source": [
        "23.  How does polymorphism work in Python with inheritance?\n",
        "Ans: Polymorphism in Python, as in many object-oriented programming languages, allows different classes to have methods with the same name but potentially different implementations. The most common way polymorphism is achieved in Python is through inheritance, where a derived class (subclass) can override or extend the functionality of a base class (superclass) method.\n",
        "\n",
        "Here’s how polymorphism typically works with inheritance in Python:\n",
        "\n",
        "    Method Overriding: In inheritance, a subclass can provide a specific implementation of a method that is already defined in its superclass. This is known as method overriding. When a method is called on an object, Python will first look for the method in the current class. If it doesn't find it, it will check the parent classes in the method resolution order (MRO) until it finds the method or raises an AttributeError if the method cannot be found.\n",
        "\n",
        "    Base Functionality Access: Subclasses can also extend the functionality of superclass methods by invoking the method from the superclass within the overridden method. This is typically done using super() function.\n",
        "\n",
        "Here's a simple example to illustrate polymorphism with inheritance:\n",
        "\n",
        "class Animal:\n",
        "    def speak(self):\n",
        "        raise NotImplementedError(\"Subclasses must implement this!\")\n",
        "\n",
        "class Dog(Animal):\n",
        "    def speak(self):\n",
        "        return \"Woof!\"\n",
        "\n",
        "class Cat(Animal):\n",
        "    def speak(self):\n",
        "        return \"Meow\"\n",
        "\n",
        "class Fish(Animal):\n",
        "    pass\n",
        "\n",
        "def make_animal_speak(animal):\n",
        "    print(animal.speak())\n",
        "\n",
        "# Instantiate objects\n",
        "dog = Dog()\n",
        "cat = Cat()\n",
        "fish = Fish()\n",
        "\n",
        "# Demonstrating polymorphism\n",
        "make_animal_speak(dog)  # Outputs: Woof!\n",
        "make_animal_speak(cat)  # Outputs: Meow\n",
        "make_animal_speak(fish)  # Raises NotImplementedError\n",
        "\n",
        "In this example:\n",
        "\n",
        "    The Animal class defines a method speak which is intended to be overridden.\n",
        "    Each subclass (Dog and Cat) overrides the speak method to provide specific behavior.\n",
        "    The Fish class does not override the speak method, so if it's called, Python raises a NotImplementedError.\n",
        "    The function make_animal_speak takes an Animal instance and calls its speak method. Due to polymorphism, the correct speak method is called based on the object's class.\n",
        "\n",
        "This capability allows for writing more flexible and reusable code where functions can operate on objects of different types, assuming they share the same method names, without knowing their specific class types.\n"
      ],
      "metadata": {
        "id": "DXnWXvzBB8vN"
      }
    },
    {
      "cell_type": "markdown",
      "source": [
        "24.  What is method chaining in Python OOP?\n",
        "Ans: Method chaining in object-oriented programming (OOP) refers to a common pattern where multiple methods are called in sequence within the same line of expression, each call performing an operation and returning a reference to the object itself (or another object) to allow the next method call. This pattern is frequently used for enhancing code readability and for compact coding, often seen in fluent interfaces.\n",
        "\n",
        "In Python, method chaining is implemented by ensuring that methods return an object that can have further methods called on it. Here’s how you can implement method chaining in Python:\n",
        "\n",
        "    Ensure methods return self: For typical method chaining on the same object, methods that alter the state of the object typically end their execution with return self. This allows subsequent methods to be called on the same object instance.\n",
        "\n",
        "    Returning new instances: Some methods might return new instances of an object, thereby starting a chain with potentially different behavior. Each method should return an object that follows the correct interface for subsequent method calls.\n",
        "\n",
        "Here is a simple example to demonstrate method chaining on the same object:\n",
        "\n",
        "class Car:\n",
        "    def __init__(self, make, model):\n",
        "        self.make = make\n",
        "        self.model = model\n",
        "        self.speed = 0\n",
        "\n",
        "    def accelerate(self, increase):\n",
        "        self.speed += increase\n",
        "        return self # returning self to allow chaining\n",
        "\n",
        "    def brake(self, decrease):\n",
        "        self.speed -= decrease\n",
        "        return self # returning self to allow chaining\n",
        "\n",
        "    def show_speed(self):\n",
        "        print(f\"The current speed of the {self.make} {self.model} is {self.speed} mph.\")\n",
        "        return self # returning self to allow chaining\n",
        "\n",
        "# Use method chaining\n",
        "my_car = Car(\"Tesla\", \"Model 3\")\n",
        "my_car.accelerate(25).show_speed().brake(10).show_speed()\n",
        "\n",
        "In this example:\n",
        "\n",
        "    Each method that mutates the Car object (accelerate, brake, show_speed) ends with return self.\n",
        "    This allows us to chain method calls in a way that reads clearly from left to right, performing an acceleration, displaying speed, applying brakes, and showing the speed again.\n",
        "\n",
        "This pattern makes the code concise and potentially easier to read. However, excessive method chaining can also lead to less maintainable code if overused, making debugging more complex due to increased cognitive load required to follow a chain. It's generally good practice to use method chaining judiciously to strike a balance between readability and simplicity.\n"
      ],
      "metadata": {
        "id": "wG2cLmciCKlM"
      }
    },
    {
      "cell_type": "markdown",
      "source": [
        "25. What is the purpose of the __call__ method in Python?\n",
        "Ans: In Python, the __call__ method is a special method that allows an instance of a class to be called as if it were a function. Essentially, it allows an object to behave like a function, providing a way to define callable objects.\n",
        "\n",
        "The __call__ method can be defined within any class, and it allows you to specify what should happen when the object is \"called\" using the function call syntax with parentheses (). This method provides flexibility and can be used to create more intuitive interfaces in your code, following the design principles of callable entities but with the advantage of maintaining state and behavior typical of objects.\n",
        "\n",
        "Here’s an example to illustrate how the __call__ method works and why it can be useful:\n",
        "\n",
        "class Counter:\n",
        "    def __init__(self, initial=0):\n",
        "        self.value = initial\n",
        "\n",
        "    def __call__(self, increment=1):\n",
        "        \"\"\"\n",
        "        Increments the counter by the provided increment value\n",
        "        and returns the new counter value.\n",
        "        \"\"\"\n",
        "        self.value += increment\n",
        "        return self.value\n",
        "\n",
        "# Create an instance of Counter\n",
        "counter = Counter(initial=10)\n",
        "\n",
        "# The object can now be used as a callable\n",
        "print(counter())         # Outputs: 11 (incremented by 1 by default)\n",
        "print(counter(3))        # Outputs: 14 (incremented by 3)\n",
        "\n",
        "In this example:\n",
        "\n",
        "    The Counter class has a __call__ method that allows its instances to be called with an optional increment parameter.\n",
        "    When you create an instance of Counter, such as counter = Counter(initial=10), you can \"call\" the counter object directly, such as counter() or counter(5).\n",
        "    This capability makes it easy to use the object in contexts where a function is expected, facilitating integration with APIs or libraries that expect a callable for hooks or callback functions.\n",
        "\n",
        "Overall, __call__ provides a way to blend the behavior of functions and the encapsulated state management of objects, making your code both intuitive and versatile. However, it is important to use this feature judiciously as it can sometimes obscure the fact that an object, not a simple function, is being called, which may potentially confuse people unfamiliar with the code.\n"
      ],
      "metadata": {
        "id": "WsRXDbeLCZnl"
      }
    },
    {
      "cell_type": "markdown",
      "source": [
        "**Practical Questions**\n"
      ],
      "metadata": {
        "id": "ne0GspiIDy8a"
      }
    },
    {
      "cell_type": "code",
      "source": [
        "1. #  Create a parent class Animal with a method speak() that prints a generic message. Create a child class Dog that overrides the speak() method to print \"Bark!\".\n",
        "\n",
        "# Parent class\n",
        "class Animal:\n",
        "    def speak(self):\n",
        "        print(\"Some generic animal sound\")\n",
        "\n",
        "# Child class\n",
        "class Dog(Animal):\n",
        "    def speak(self):\n",
        "        print(\"Bark!\")\n",
        "\n",
        "# Creating an object of the Dog class\n",
        "dog = Dog()\n",
        "dog.speak()  # This will call the overridden speak() method in Dog class\n"
      ],
      "metadata": {
        "colab": {
          "base_uri": "https://localhost:8080/"
        },
        "id": "41t1ViUqD6TB",
        "outputId": "29fe9657-a183-48c9-8298-e0635dbe5d59"
      },
      "execution_count": 2,
      "outputs": [
        {
          "output_type": "stream",
          "name": "stdout",
          "text": [
            "Bark!\n"
          ]
        }
      ]
    },
    {
      "cell_type": "code",
      "source": [
        "2. # Write a program to create an abstract class Shape with a method area(). Derive classes Circle and Rectangle from it and implement the area() method in both.\n",
        "\n",
        "from abc import ABC, abstractmethod\n",
        "import math\n",
        "\n",
        "# Abstract class Shape\n",
        "class Shape(ABC):\n",
        "    @abstractmethod\n",
        "    def area(self):\n",
        "        pass\n",
        "\n",
        "# Derived class Circle\n",
        "class Circle(Shape):\n",
        "    def __init__(self, radius):\n",
        "        self.radius = radius\n",
        "\n",
        "    def area(self):\n",
        "        return math.pi * self.radius ** 2\n",
        "\n",
        "# Derived class Rectangle\n",
        "class Rectangle(Shape):\n",
        "    def __init__(self, width, height):\n",
        "        self.width = width\n",
        "        self.height = height\n",
        "\n",
        "    def area(self):\n",
        "        return self.width * self.height\n",
        "\n",
        "# Create objects of Circle and Rectangle\n",
        "circle = Circle(5)\n",
        "rectangle = Rectangle(4, 6)\n",
        "\n",
        "# Print the area of Circle and Rectangle\n",
        "print(\"Area of Circle:\", circle.area())\n",
        "print(\"Area of Rectangle:\", rectangle.area())\n"
      ],
      "metadata": {
        "colab": {
          "base_uri": "https://localhost:8080/"
        },
        "id": "-YNaluMlEU7y",
        "outputId": "90d2f3ce-edc0-4395-805f-fb5a72ed459b"
      },
      "execution_count": 3,
      "outputs": [
        {
          "output_type": "stream",
          "name": "stdout",
          "text": [
            "Area of Circle: 78.53981633974483\n",
            "Area of Rectangle: 24\n"
          ]
        }
      ]
    },
    {
      "cell_type": "code",
      "source": [
        "3. # Implement a multi-level inheritance scenario where a class Vehicle has an attribute type. Derive a class Car and further derive a class ElectricCar that adds a battery attribute.\n",
        "\n",
        "# Base class Vehicle\n",
        "class Vehicle:\n",
        "    def __init__(self, type):\n",
        "        self.type = type\n",
        "\n",
        "    def display_type(self):\n",
        "        print(f\"This is a {self.type}\")\n",
        "\n",
        "# Derived class Car\n",
        "class Car(Vehicle):\n",
        "    def __init__(self, type, brand):\n",
        "        super().__init__(type)  # Calling the constructor of the parent class Vehicle\n",
        "        self.brand = brand\n",
        "\n",
        "    def display_brand(self):\n",
        "        print(f\"This car is a {self.brand}\")\n",
        "\n",
        "# Further derived class ElectricCar\n",
        "class ElectricCar(Car):\n",
        "    def __init__(self, type, brand, battery):\n",
        "        super().__init__(type, brand)  # Calling the constructor of the parent class Car\n",
        "        self.battery = battery\n",
        "\n",
        "    def display_battery(self):\n",
        "        print(f\"This electric car has a {self.battery} battery\")\n",
        "\n",
        "# Creating an object of ElectricCar\n",
        "electric_car = ElectricCar(\"Electric Vehicle\", \"Tesla\", \"100 kWh\")\n",
        "\n",
        "# Displaying attributes using methods from each class\n",
        "electric_car.display_type()  # From Vehicle class\n",
        "electric_car.display_brand()  # From Car class\n",
        "electric_car.display_battery()  # From ElectricCar class\n"
      ],
      "metadata": {
        "colab": {
          "base_uri": "https://localhost:8080/"
        },
        "id": "0jaMtb4LGAcS",
        "outputId": "a749bbd1-2229-4e27-8fd0-95eaf258a294"
      },
      "execution_count": 4,
      "outputs": [
        {
          "output_type": "stream",
          "name": "stdout",
          "text": [
            "This is a Electric Vehicle\n",
            "This car is a Tesla\n",
            "This electric car has a 100 kWh battery\n"
          ]
        }
      ]
    },
    {
      "cell_type": "code",
      "source": [
        "4. #Implement a multi-level inheritance scenario where a class Vehicle has an attribute type. Derive a class Car and further derive a class ElectricCar that adds a battery attribute.\n",
        "\n",
        "class Vehicle:\n",
        "    def __init__(self, vehicle_type):\n",
        "        self.type = vehicle_type\n",
        "\n",
        "    def display_info(self):\n",
        "        return f\"This is a {self.type}.\"\n",
        "\n",
        "class Car(Vehicle):\n",
        "    def __init__(self, make, model):\n",
        "        super().__init__(vehicle_type='car')\n",
        "        self.make = make\n",
        "        self.model = model\n",
        "\n",
        "    def display_info(self):\n",
        "        basic_info = super().display_info()\n",
        "        return f\"{basic_info} It is a {self.make} {self.model}.\"\n",
        "\n",
        "class ElectricCar(Car):\n",
        "    def __init__(self, make, model, battery_capacity):\n",
        "        super().__init__(make, model)\n",
        "        self.battery_capacity = battery_capacity\n",
        "\n",
        "    def display_info(self):\n",
        "        basic_info = super().display_info()\n",
        "        return f\"{basic_info} It has a battery with {self.battery_capacity} kWh capacity.\"\n",
        "\n",
        "# Create instances and display their information\n",
        "vehicle = Vehicle(\"generic vehicle\")\n",
        "car = Car(\"Toyota\", \"Corolla\")\n",
        "electric_car = ElectricCar(\"Tesla\", \"Model S\", 100)\n",
        "\n",
        "print(vehicle.display_info())    # Output: This is a generic vehicle.\n",
        "print(car.display_info())        # Output: This is a car. It is a Toyota Corolla.\n",
        "print(electric_car.display_info())  # Output: This is a car. It is a Tesla Model S. It has a battery with 100 kWh capacity.\n",
        "\n"
      ],
      "metadata": {
        "colab": {
          "base_uri": "https://localhost:8080/"
        },
        "id": "HEAXS4WvGU9X",
        "outputId": "adde848c-f69a-4af1-dba4-db5c7b59aa85"
      },
      "execution_count": 5,
      "outputs": [
        {
          "output_type": "stream",
          "name": "stdout",
          "text": [
            "This is a generic vehicle.\n",
            "This is a car. It is a Toyota Corolla.\n",
            "This is a car. It is a Tesla Model S. It has a battery with 100 kWh capacity.\n"
          ]
        }
      ]
    },
    {
      "cell_type": "code",
      "source": [
        "5. #Write a program to demonstrate encapsulation by creating a class BankAccount with private attributes balance and methods to deposit, withdraw, and check balance.\n",
        "\n",
        "class BankAccount:\n",
        "    def __init__(self, initial_balance=0):\n",
        "        self.__balance = initial_balance  # Private attribute\n",
        "\n",
        "    # Method to deposit money into the account\n",
        "    def deposit(self, amount):\n",
        "        if amount > 0:\n",
        "            self.__balance += amount\n",
        "            print(f\"Deposited ${amount}. New balance is ${self.__balance}.\")\n",
        "        else:\n",
        "            print(\"Deposit amount must be positive.\")\n",
        "\n",
        "    # Method to withdraw money from the account\n",
        "    def withdraw(self, amount):\n",
        "        if amount > 0:\n",
        "            if amount <= self.__balance:\n",
        "                self.__balance -= amount\n",
        "                print(f\"Withdrew ${amount}. Remaining balance is ${self.__balance}.\")\n",
        "            else:\n",
        "                print(\"Insufficient funds.\")\n",
        "        else:\n",
        "            print(\"Withdrawal amount must be positive.\")\n",
        "\n",
        "    # Method to check the current balance\n",
        "    def check_balance(self):\n",
        "        print(f\"Current balance is ${self.__balance}.\")\n",
        "\n",
        "    # Optional: A getter method to access the balance (if needed)\n",
        "    def get_balance(self):\n",
        "        return self.__balance\n",
        "\n",
        "# Example usage:\n",
        "account = BankAccount(1000)  # Create account with an initial balance of $1000\n",
        "account.deposit(500)  # Deposit $500\n",
        "account.withdraw(200)  # Withdraw $200\n",
        "account.check_balance()  # Check current balance\n",
        "account.withdraw(1500)  # Attempt to withdraw more than the balance\n",
        "account.deposit(-100)  # Attempt to deposit a negative amount\n",
        "\n",
        "\n"
      ],
      "metadata": {
        "colab": {
          "base_uri": "https://localhost:8080/"
        },
        "id": "kTO_JcfpGvaI",
        "outputId": "c3724ae3-65b9-43ae-bc4e-441a3e9a9426"
      },
      "execution_count": 11,
      "outputs": [
        {
          "output_type": "stream",
          "name": "stdout",
          "text": [
            "Deposited $500. New balance is $1500.\n",
            "Withdrew $200. Remaining balance is $1300.\n",
            "Current balance is $1300.\n",
            "Insufficient funds.\n",
            "Deposit amount must be positive.\n"
          ]
        }
      ]
    },
    {
      "cell_type": "code",
      "source": [
        "6. #Demonstrate runtime polymorphism using a method play() in a base class Instrument. Derive classes Guitar and Piano that implement their own version of play().\n",
        "\n",
        "class Instrument:\n",
        "    def play(self):\n",
        "        print(\"Playing the instrument...\")\n",
        "\n",
        "class Guitar(Instrument):\n",
        "    def play(self):\n",
        "        # Overriding the play method in the base class\n",
        "        print(\"Strumming the guitar!\")\n",
        "\n",
        "class Piano(Instrument):\n",
        "    def play(self):\n",
        "        # Overriding the play method in the base class\n",
        "        print(\"Playing the piano keys!\")\n",
        "\n",
        "def perform(instrument):\n",
        "    # This function demonstrates runtime polymorphism\n",
        "    instrument.play()\n",
        "\n",
        "# Instances of Guitar and Piano\n",
        "guitar = Guitar()\n",
        "piano = Piano()\n",
        "\n",
        "# Using the perform function\n",
        "perform(guitar)  # Output: Strumming the guitar!\n",
        "perform(piano)   # Output: Playing the piano keys!\n",
        "\n"
      ],
      "metadata": {
        "colab": {
          "base_uri": "https://localhost:8080/"
        },
        "id": "PA9SXlDTHmcG",
        "outputId": "1ead127f-f364-4f6a-a9c5-355f4e6f4cfa"
      },
      "execution_count": 13,
      "outputs": [
        {
          "output_type": "stream",
          "name": "stdout",
          "text": [
            "Strumming the guitar!\n",
            "Playing the piano keys!\n"
          ]
        }
      ]
    },
    {
      "cell_type": "code",
      "source": [
        "7. #Create a class MathOperations with a class method add_numbers() to add two numbers and a static method subtract_numbers() to subtract two numbers.\n",
        "class MathOperations:\n",
        "    # Class method to add two numbers\n",
        "    @classmethod\n",
        "    def add_numbers(cls, num1, num2):\n",
        "        return num1 + num2\n",
        "\n",
        "    # Static method to subtract two numbers\n",
        "    @staticmethod\n",
        "    def subtract_numbers(num1, num2):\n",
        "        return num1 - num2\n",
        "\n",
        "# Example usage:\n",
        "# Using class method to add numbers\n",
        "sum_result = MathOperations.add_numbers(10, 5)\n",
        "print(f\"Sum: {sum_result}\")\n",
        "\n",
        "# Using static method to subtract numbers\n",
        "difference_result = MathOperations.subtract_numbers(10, 5)\n",
        "print(f\"Difference: {difference_result}\")\n",
        "\n"
      ],
      "metadata": {
        "colab": {
          "base_uri": "https://localhost:8080/"
        },
        "id": "EAF9pCfrIEui",
        "outputId": "db07dcfd-600c-409d-b646-e038fd0263f8"
      },
      "execution_count": 14,
      "outputs": [
        {
          "output_type": "stream",
          "name": "stdout",
          "text": [
            "Sum: 15\n",
            "Difference: 5\n"
          ]
        }
      ]
    },
    {
      "cell_type": "code",
      "source": [
        "8. #Implement a class Person with a class method to count the total number of persons created.\n",
        "\n",
        "class Person:\n",
        "    # Class-level attribute to count the total number of persons created\n",
        "    total_persons = 0\n",
        "\n",
        "    def __init__(self, name, age):\n",
        "        self.name = name\n",
        "        self.age = age\n",
        "        # Increment the total count every time a new person is created\n",
        "        Person.total_persons += 1\n",
        "\n",
        "    # Class method to return the total number of persons created\n",
        "    @classmethod\n",
        "    def count_persons(cls):\n",
        "        return cls.total_persons\n",
        "\n",
        "# Example usage:\n",
        "# Creating instances of the Person class\n",
        "person1 = Person(\"Alice\", 30)\n",
        "person2 = Person(\"Bob\", 25)\n",
        "person3 = Person(\"Charlie\", 35)\n",
        "\n",
        "# Using the class method to count the total number of persons created\n",
        "print(f\"Total persons created: {Person.count_persons()}\")\n"
      ],
      "metadata": {
        "colab": {
          "base_uri": "https://localhost:8080/"
        },
        "id": "lu_QAV9iIazl",
        "outputId": "a5d91ea1-356f-47b2-ac51-548691c2c71f"
      },
      "execution_count": 15,
      "outputs": [
        {
          "output_type": "stream",
          "name": "stdout",
          "text": [
            "Total persons created: 3\n"
          ]
        }
      ]
    },
    {
      "cell_type": "code",
      "source": [
        "9. #Write a class Fraction with attributes numerator and denominator. Override the str method to display the fraction as \"numerator/denominator\".\n",
        "\n",
        "class Fraction:\n",
        "    def __init__(self, numerator, denominator):\n",
        "        # Initialize the fraction with the given numerator and denominator\n",
        "        self.numerator = numerator\n",
        "        self.denominator = denominator\n",
        "\n",
        "    # Override the __str__ method to display the fraction as \"numerator/denominator\"\n",
        "    def __str__(self):\n",
        "        return f\"{self.numerator}/{self.denominator}\"\n",
        "\n",
        "# Example usage:\n",
        "fraction1 = Fraction(3, 4)\n",
        "fraction2 = Fraction(5, 7)\n",
        "\n",
        "# Printing the fractions will call the __str__ method automatically\n",
        "print(fraction1)  # Output: 3/4\n",
        "print(fraction2)  # Output: 5/7\n"
      ],
      "metadata": {
        "colab": {
          "base_uri": "https://localhost:8080/"
        },
        "id": "ZqqFHcJuIx6r",
        "outputId": "d26cf83f-56e6-4c75-cb4e-fa27a7088242"
      },
      "execution_count": 16,
      "outputs": [
        {
          "output_type": "stream",
          "name": "stdout",
          "text": [
            "3/4\n",
            "5/7\n"
          ]
        }
      ]
    },
    {
      "cell_type": "markdown",
      "source": [],
      "metadata": {
        "id": "Ro9_Jxq8-VzW"
      }
    },
    {
      "cell_type": "code",
      "source": [
        "10. #. Demonstrate operator overloading by creating a class Vector and overriding the add method to add two vectors.\n",
        "class Vector:\n",
        "    def __init__(self, elements):\n",
        "        self.elements = elements\n",
        "\n",
        "    def __add__(self, other):\n",
        "        \"\"\"\n",
        "        Overloads the + operator to add two vectors if they are of the same length.\n",
        "        \"\"\"\n",
        "        if len(self.elements) != len(other.elements):\n",
        "            raise ValueError(\"Both vectors must be of the same length.\")\n",
        "\n",
        "        # Adding corresponding elements of the two vectors\n",
        "        result = [a + b for a, b in zip(self.elements, other.elements)]\n",
        "        return Vector(result)\n",
        "\n",
        "    def __str__(self):\n",
        "        \"\"\"\n",
        "        Return a string representation of the vector for easy visualization.\n",
        "        \"\"\"\n",
        "        return f\"Vector({self.elements})\"\n",
        "\n",
        "# Example usage:\n",
        "vec1 = Vector([1, 2, 3])\n",
        "vec2 = Vector([4, 5, 6])\n",
        "\n",
        "# Adding two vectors\n",
        "vec3 = vec1 + vec2\n",
        "print(vec3)  # Output: Vector([5, 7, 9])\n",
        "\n",
        "# Trying to add vectors of different lengths should result in an error\n",
        "vec4 = Vector([1, 2, 3, 4])\n",
        "# Uncommenting the next line will raise a ValueError\n",
        "# vec5 = vec1 + vec4\n",
        "\n"
      ],
      "metadata": {
        "colab": {
          "base_uri": "https://localhost:8080/"
        },
        "id": "7yJLLU36I94U",
        "outputId": "0e9f3a36-bf04-44d9-bd5d-c9df56830f60"
      },
      "execution_count": 18,
      "outputs": [
        {
          "output_type": "stream",
          "name": "stdout",
          "text": [
            "Vector([5, 7, 9])\n"
          ]
        }
      ]
    },
    {
      "cell_type": "code",
      "source": [
        "11. #. Create a class Person with attributes name and age. Add a method greet() that prints \"Hello, my name is {name} and I am {age} years old.\"\n",
        "class Person:\n",
        "    def __init__(self, name, age):\n",
        "        self.name = name\n",
        "        self.age = age\n",
        "\n",
        "    def greet(self):\n",
        "        # The greeting message that uses the name and age attributes.\n",
        "        print(f\"Hello, my name is {self.name} and I am {self.age} years old.\")\n",
        "\n",
        "# Example usage:\n",
        "# Creating an instance of Person\n",
        "person1 = Person(\"Alice\", 30)\n",
        "\n",
        "# Calling the greet method on the instance\n",
        "person1.greet()  # Output: Hello, my name is Alice and I am 30 years old.\n"
      ],
      "metadata": {
        "colab": {
          "base_uri": "https://localhost:8080/"
        },
        "id": "afv0TmKXJg28",
        "outputId": "52a2dbfa-7940-47c3-cf9a-c260cf20f46a"
      },
      "execution_count": 19,
      "outputs": [
        {
          "output_type": "stream",
          "name": "stdout",
          "text": [
            "Hello, my name is Alice and I am 30 years old.\n"
          ]
        }
      ]
    },
    {
      "cell_type": "code",
      "source": [
        "12. #. Implement a class Student with attributes name and grades. Create a method average_grade() to compute the average of the grades.\n",
        "\n",
        "class Student:\n",
        "    def __init__(self, name, grades):\n",
        "        self.name = name\n",
        "        if isinstance(grades, list) and all(isinstance(g, (int, float)) for g in grades):\n",
        "            self.grades = grades\n",
        "        else:\n",
        "            raise ValueError(\"Grades must be a list of numbers.\")\n",
        "\n",
        "    def average_grade(self):\n",
        "        # Computes the average grade if the list of grades is not empty.\n",
        "        if not self.grades:\n",
        "            raise ValueError(\"No grades available to calculate average.\")\n",
        "        return sum(self.grades) / len(self.grades)\n",
        "\n",
        "    def __str__(self):\n",
        "        # Optional: Provides a nice string representation of the object.\n",
        "        return f\"Student(name={self.name}, grades={self.grades})\"\n",
        "\n",
        "# Example Usage:\n",
        "# Creating a student instance with some grades\n",
        "student1 = Student(\"John\", [88, 92, 78, 90])\n",
        "\n",
        "# Calculating the average grade\n",
        "average = student1.average_grade()\n",
        "print(f\"The average grade of {student1.name} is {average:.2f}\")  # Output: The average grade of John is 87.00\n",
        "\n",
        "# Print detailed info about the student (optional)\n",
        "\n",
        "print(student1)  # Output: Student(name=John, grades=[88, 92, 78, 90])\n",
        "\n"
      ],
      "metadata": {
        "colab": {
          "base_uri": "https://localhost:8080/"
        },
        "id": "2rSHYw_xJzCU",
        "outputId": "c61f4c7e-ddc7-421a-a5be-ac9d2b5a4bfb"
      },
      "execution_count": 20,
      "outputs": [
        {
          "output_type": "stream",
          "name": "stdout",
          "text": [
            "The average grade of John is 87.00\n",
            "Student(name=John, grades=[88, 92, 78, 90])\n"
          ]
        }
      ]
    },
    {
      "cell_type": "code",
      "source": [
        "13. #. Create a class Rectangle with methods set_dimensions() to set the dimensions and area() to calculate the area.\n",
        "\n",
        "class Rectangle:\n",
        "    def __init__(self, width=0, height=0):\n",
        "        self.width = width\n",
        "        self.height = height\n",
        "\n",
        "    def set_dimensions(self, width, height):\n",
        "        \"\"\"\n",
        "        Set the dimensions of the rectangle.\n",
        "        \"\"\"\n",
        "        if width < 0 or height < 0:\n",
        "            raise ValueError(\"Width and height must be non-negative.\")\n",
        "        self.width = width\n",
        "        self.height = height\n",
        "\n",
        "    def area(self):\n",
        "        \"\"\"\n",
        "        Calculate the area of the rectangle.\n",
        "        \"\"\"\n",
        "        return self.width * self.height\n",
        "\n",
        "    def __str__(self):\n",
        "        \"\"\"\n",
        "        Return a string representation of the rectangle.\n",
        "        \"\"\"\n",
        "        return f\"Rectangle(width={self.width}, height={self.height})\"\n",
        "\n",
        "# Example Usage:\n",
        "# Create a rectangle instance\n",
        "rect = Rectangle()\n",
        "\n",
        "# Set dimensions of the rectangle\n",
        "rect.set_dimensions(10, 20)\n",
        "\n",
        "# Calculate the area of the rectangle\n",
        "print(f\"The area of the rectangle is: {rect.area()}\")  # Output: The area of the rectangle is: 200\n",
        "\n",
        "# Print rectangle details\n",
        "print(rect)  # Output: Rectangle(width=10, height=20)\n",
        "\n"
      ],
      "metadata": {
        "colab": {
          "base_uri": "https://localhost:8080/"
        },
        "id": "Nj097PDGKa4q",
        "outputId": "54b616cc-92d2-499f-bfc1-eb850dab4ff6"
      },
      "execution_count": 22,
      "outputs": [
        {
          "output_type": "stream",
          "name": "stdout",
          "text": [
            "The area of the rectangle is: 200\n",
            "Rectangle(width=10, height=20)\n"
          ]
        }
      ]
    },
    {
      "cell_type": "code",
      "source": [
        "14. # Create a class Employee with a method calculate_salary() that computes the salary based on hours worked and hourly rate. Create a derived class Manager that adds a bonus to the salary.\n",
        "\n",
        "# Base class Employee\n",
        "class Employee:\n",
        "    def __init__(self, name, hours_worked, hourly_rate):\n",
        "        self.name = name\n",
        "        self.hours_worked = hours_worked\n",
        "        self.hourly_rate = hourly_rate\n",
        "\n",
        "    # Method to calculate salary\n",
        "    def calculate_salary(self):\n",
        "        return self.hours_worked * self.hourly_rate\n",
        "\n",
        "# Derived class Manager\n",
        "class Manager(Employee):\n",
        "    def __init__(self, name, hours_worked, hourly_rate, bonus):\n",
        "        super().__init__(name, hours_worked, hourly_rate)  # Initialize the base class\n",
        "        self.bonus = bonus  # Bonus attribute for Manager\n",
        "\n",
        "    # Overridden method to calculate salary with a bonus\n",
        "    def calculate_salary(self):\n",
        "        base_salary = super().calculate_salary()  # Get salary from the Employee class\n",
        "        return base_salary + self.bonus  # Add bonus to the base salary\n",
        "\n",
        "# Example usage:\n",
        "# Create an Employee object\n",
        "employee = Employee(\"John\", 40, 20)  # 40 hours worked, $20 per hour\n",
        "employee_salary = employee.calculate_salary()\n",
        "print(f\"Employee Salary: ${employee_salary}\")\n",
        "\n",
        "# Create a Manager object\n",
        "manager = Manager(\"Alice\", 40, 25, 500)  # 40 hours worked, $25 per hour, $500 bonus\n",
        "manager_salary = manager.calculate_salary()\n",
        "print(f\"Manager Salary: ${manager_salary}\")\n"
      ],
      "metadata": {
        "colab": {
          "base_uri": "https://localhost:8080/"
        },
        "id": "TmrsrhZBKx7E",
        "outputId": "ebbdc129-aafd-463d-ad4d-5739e4091199"
      },
      "execution_count": 23,
      "outputs": [
        {
          "output_type": "stream",
          "name": "stdout",
          "text": [
            "Employee Salary: $800\n",
            "Manager Salary: $1500\n"
          ]
        }
      ]
    },
    {
      "cell_type": "code",
      "source": [
        "15. #  Create a class Product with attributes name, price, and quantity. Implement a method total_price() that calculates the total price of the product.\n",
        "\n",
        "class Product:\n",
        "    def __init__(self, name, price, quantity):\n",
        "        # Initialize the product with name, price, and quantity\n",
        "        self.name = name\n",
        "        self.price = price\n",
        "        self.quantity = quantity\n",
        "\n",
        "    # Method to calculate the total price of the product\n",
        "    def total_price(self):\n",
        "        return self.price * self.quantity\n",
        "\n",
        "# Example usage:\n",
        "# Create a product object\n",
        "product1 = Product(\"Laptop\", 1000, 3)  # Name: Laptop, Price: $1000, Quantity: 3\n",
        "product2 = Product(\"Phone\", 500, 5)    # Name: Phone, Price: $500, Quantity: 5\n",
        "\n",
        "# Calculate the total price for each product\n",
        "print(f\"Total price of {product1.name}: ${product1.total_price()}\")\n",
        "print(f\"Total price of {product2.name}: ${product2.total_price()}\")\n"
      ],
      "metadata": {
        "colab": {
          "base_uri": "https://localhost:8080/"
        },
        "id": "zRnHuvLALIC2",
        "outputId": "c4e49ad8-39dd-4b09-956d-1596d45db1ef"
      },
      "execution_count": 24,
      "outputs": [
        {
          "output_type": "stream",
          "name": "stdout",
          "text": [
            "Total price of Laptop: $3000\n",
            "Total price of Phone: $2500\n"
          ]
        }
      ]
    },
    {
      "cell_type": "code",
      "source": [
        "16. # . Create a class Animal with an abstract method sound(). Create two derived classes Cow and Sheep that implement the sound() method\n",
        "\n",
        "from abc import ABC, abstractmethod\n",
        "\n",
        "# Abstract class Animal\n",
        "class Animal(ABC):\n",
        "    @abstractmethod\n",
        "    def sound(self):\n",
        "        pass\n",
        "\n",
        "# Derived class Cow\n",
        "class Cow(Animal):\n",
        "    def sound(self):\n",
        "        return \"Moo\"\n",
        "\n",
        "# Derived class Sheep\n",
        "class Sheep(Animal):\n",
        "    def sound(self):\n",
        "        return \"Baa\"\n",
        "\n",
        "# Example usage:\n",
        "cow = Cow()\n",
        "sheep = Sheep()\n",
        "\n",
        "# Calling the sound method for each animal\n",
        "print(f\"Cow makes sound: {cow.sound()}\")\n",
        "print(f\"Sheep makes sound: {sheep.sound()}\")\n"
      ],
      "metadata": {
        "colab": {
          "base_uri": "https://localhost:8080/"
        },
        "id": "INAyjEQaLk4q",
        "outputId": "be407a0d-fa04-4f26-d938-2413675f1b15"
      },
      "execution_count": 25,
      "outputs": [
        {
          "output_type": "stream",
          "name": "stdout",
          "text": [
            "Cow makes sound: Moo\n",
            "Sheep makes sound: Baa\n"
          ]
        }
      ]
    },
    {
      "cell_type": "code",
      "source": [
        "17. # Create a class Book with attributes title, author, and year_published. Add a method get_book_info() that returns a formatted string with the book's details.\n",
        "\n",
        "class Book:\n",
        "    def __init__(self, title, author, year_published):\n",
        "        # Initialize the attributes for the book\n",
        "        self.title = title\n",
        "        self.author = author\n",
        "        self.year_published = year_published\n",
        "\n",
        "    # Method to return a formatted string with book details\n",
        "    def get_book_info(self):\n",
        "        return f\"Title: {self.title}\\nAuthor: {self.author}\\nYear Published: {self.year_published}\"\n",
        "\n",
        "# Example usage:\n",
        "# Create a Book object\n",
        "book1 = Book(\"1984\", \"George Orwell\", 1949)\n",
        "\n",
        "# Get and print the book information\n",
        "print(book1.get_book_info())\n",
        "\n"
      ],
      "metadata": {
        "colab": {
          "base_uri": "https://localhost:8080/"
        },
        "id": "PpFU_aTFMGfl",
        "outputId": "dd30e65a-dfcf-40da-f8b0-6327e3613efe"
      },
      "execution_count": 26,
      "outputs": [
        {
          "output_type": "stream",
          "name": "stdout",
          "text": [
            "Title: 1984\n",
            "Author: George Orwell\n",
            "Year Published: 1949\n"
          ]
        }
      ]
    },
    {
      "cell_type": "code",
      "source": [
        "18. # Create a class House with attributes address and price. Create a derived class Mansion that adds an attribute number_of_rooms.\n",
        "\n",
        "class Book:\n",
        "    def __init__(self, title, author, year_published):\n",
        "        # Initialize the attributes for the book\n",
        "        self.title = title\n",
        "        self.author = author\n",
        "        self.year_published = year_published\n",
        "\n",
        "    # Method to return a formatted string with book details\n",
        "    def get_book_info(self):\n",
        "        return f\"Title: {self.title}\\nAuthor: {self.author}\\nYear Published: {self.year_published}\"\n",
        "\n",
        "# Example usage:\n",
        "# Create a Book object\n",
        "book1 = Book(\"1984\", \"George Orwell\", 1949)\n",
        "\n",
        "# Get and print the book information\n",
        "print(book1.get_book_info())\n"
      ],
      "metadata": {
        "colab": {
          "base_uri": "https://localhost:8080/"
        },
        "id": "DNf-pIuSMtEC",
        "outputId": "b2a9558b-c988-4bc5-ade2-22a1126360b1"
      },
      "execution_count": 27,
      "outputs": [
        {
          "output_type": "stream",
          "name": "stdout",
          "text": [
            "Title: 1984\n",
            "Author: George Orwell\n",
            "Year Published: 1949\n"
          ]
        }
      ]
    }
  ]
}